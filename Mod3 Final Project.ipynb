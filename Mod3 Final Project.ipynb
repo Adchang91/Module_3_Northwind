{
 "cells": [
  {
   "cell_type": "markdown",
   "metadata": {},
   "source": [
    "# Module 2 - Final Project"
   ]
  },
  {
   "cell_type": "markdown",
   "metadata": {},
   "source": [
    "<b>Goal</b>: Gather information from a real-world database and use your knowledge of statistical analysis and hypothesis testing to generate analytical insights that can be of value to the company."
   ]
  },
  {
   "cell_type": "markdown",
   "metadata": {},
   "source": [
    "<img src='Northwind_ERD.png' height=100% width=100%>"
   ]
  },
  {
   "cell_type": "code",
   "execution_count": 1,
   "metadata": {},
   "outputs": [],
   "source": [
    "import warnings\n",
    "warnings.filterwarnings(\"ignore\")\n",
    "import sqlite3 as sql\n",
    "import pandas as pd\n",
    "import numpy as np\n",
    "import matplotlib.pyplot as plt\n",
    "from scipy import stats\n",
    "from statsmodels.formula.api import ols\n",
    "import statsmodels.api as sm\n",
    "from statsmodels.graphics.factorplots import interaction_plot\n",
    "import seaborn as sns\n",
    "from statsmodels.stats.multicomp import MultiComparison\n",
    "from scipy.stats import ttest_ind\n",
    "from statsmodels.stats.multicomp import pairwise_tukeyhsd"
   ]
  },
  {
   "cell_type": "code",
   "execution_count": 2,
   "metadata": {},
   "outputs": [
    {
     "data": {
      "text/plain": [
       "[('Employee',),\n",
       " ('Category',),\n",
       " ('Customer',),\n",
       " ('Shipper',),\n",
       " ('Supplier',),\n",
       " ('Order',),\n",
       " ('Product',),\n",
       " ('OrderDetail',),\n",
       " ('CustomerCustomerDemo',),\n",
       " ('CustomerDemographic',),\n",
       " ('Region',),\n",
       " ('Territory',),\n",
       " ('EmployeeTerritory',)]"
      ]
     },
     "execution_count": 2,
     "metadata": {},
     "output_type": "execute_result"
    }
   ],
   "source": [
    "conn = sql.connect('Northwind_small.sqlite')\n",
    "cur = conn.cursor()\n",
    "table_names = list(cur.execute('''SELECT name FROM sqlite_master WHERE TYPE = 'table' ''').fetchall())\n",
    "\n",
    "table_names"
   ]
  },
  {
   "cell_type": "code",
   "execution_count": 3,
   "metadata": {},
   "outputs": [],
   "source": [
    "sql_comm = []\n",
    "for i in range(0, len(table_names)):\n",
    "    s = \"SELECT * FROM \" + table_names[i][0]\n",
    "    sql_comm.append(s)\n",
    "    \n",
    "employees = pd.read_sql_query(sql_comm[0], conn)\n",
    "categories = pd.read_sql_query(sql_comm[1], conn)\n",
    "customers = pd.read_sql_query(sql_comm[2], conn)\n",
    "shippers = pd.read_sql_query(sql_comm[3], conn)\n",
    "\n",
    "suppliers = pd.read_sql_query(sql_comm[4], conn)\n",
    "products = pd.read_sql_query(sql_comm[6], conn)\n",
    "order_details = pd.read_sql_query(sql_comm[7], conn)\n",
    "orders = pd.read_csv('orders.csv', sep=';')\n",
    "\n",
    "cust_cust_demos = pd.read_sql_query(sql_comm[8], conn)\n",
    "cust_demos = pd.read_sql_query(sql_comm[9], conn)\n",
    "regions = pd.read_sql_query(sql_comm[10], conn)\n",
    "territories = pd.read_sql_query(sql_comm[11], conn)\n",
    "emp_territories = pd.read_sql_query(sql_comm[12], conn)"
   ]
  },
  {
   "cell_type": "markdown",
   "metadata": {},
   "source": [
    "## Hypothesis Test 1\n",
    "\n",
    "### Do discounts have a statistically significant effect on the number of products customers order? If so, at what level(s) of discount?"
   ]
  },
  {
   "cell_type": "markdown",
   "metadata": {},
   "source": [
    "The 2 questions needs to be split into 2 different hypothesis testings.\n",
    "- For the first question, I will do a two-tail test to compare discounts vs no discounts.\n",
    "- For the second question, I will do an ANOVA test to compare each discount level with one another."
   ]
  },
  {
   "cell_type": "markdown",
   "metadata": {},
   "source": [
    "### Part 1\n",
    ">**$H_{o}$: Discounts do not effect the number of products customers order.**\n",
    "\n",
    ">**$H_{a}$: Discounts can either increase or decrease the number of products customers order.**"
   ]
  },
  {
   "cell_type": "markdown",
   "metadata": {},
   "source": [
    "Judging from the question, I need to investigate the 'Quantity' and 'Discount' columns from the 'Order Details' table."
   ]
  },
  {
   "cell_type": "code",
   "execution_count": 4,
   "metadata": {
    "scrolled": true
   },
   "outputs": [
    {
     "name": "stdout",
     "output_type": "stream",
     "text": [
      "<class 'pandas.core.frame.DataFrame'>\n",
      "RangeIndex: 2155 entries, 0 to 2154\n",
      "Data columns (total 6 columns):\n",
      "Id           2155 non-null object\n",
      "OrderId      2155 non-null int64\n",
      "ProductId    2155 non-null int64\n",
      "UnitPrice    2155 non-null float64\n",
      "Quantity     2155 non-null int64\n",
      "Discount     2155 non-null float64\n",
      "dtypes: float64(2), int64(3), object(1)\n",
      "memory usage: 101.1+ KB\n"
     ]
    }
   ],
   "source": [
    "order_details.info()"
   ]
  },
  {
   "cell_type": "code",
   "execution_count": 5,
   "metadata": {
    "scrolled": false
   },
   "outputs": [
    {
     "data": {
      "text/plain": [
       "77"
      ]
     },
     "execution_count": 5,
     "metadata": {},
     "output_type": "execute_result"
    }
   ],
   "source": [
    "len(order_details.ProductId.unique())"
   ]
  },
  {
   "cell_type": "markdown",
   "metadata": {},
   "source": [
    "We have 77 unique products from 2155 rows of data. This calls into question, is the question asking for specific orders or products as a whole.\n",
    "- I will move on with specific orders first\n",
    "- First, I will create a graph to visualize the difference in Discount vs No Discount\n",
    "- Next, I will perform the t-test to find the p-value. If the p-value is less than 0.05 (alpha), then we will reject the null hypothesis."
   ]
  },
  {
   "cell_type": "code",
   "execution_count": 6,
   "metadata": {},
   "outputs": [],
   "source": [
    "h1 = order_details[['ProductId','Quantity','Discount']]"
   ]
  },
  {
   "cell_type": "markdown",
   "metadata": {},
   "source": [
    "Split the dataset; Discount and No Discount"
   ]
  },
  {
   "cell_type": "code",
   "execution_count": 7,
   "metadata": {},
   "outputs": [],
   "source": [
    "h1no = h1[h1['Discount']==0]\n",
    "h1yes = h1[h1['Discount']>0]"
   ]
  },
  {
   "cell_type": "markdown",
   "metadata": {},
   "source": [
    "Create arrays to use for Histogram"
   ]
  },
  {
   "cell_type": "code",
   "execution_count": 8,
   "metadata": {},
   "outputs": [],
   "source": [
    "h1nohist = np.array(h1no['Quantity'])\n",
    "h1yeshist = np.array(h1yes['Quantity'])"
   ]
  },
  {
   "cell_type": "markdown",
   "metadata": {},
   "source": [
    "#### Histogram to visualize the difference in average quantities and count"
   ]
  },
  {
   "cell_type": "code",
   "execution_count": 9,
   "metadata": {},
   "outputs": [
    {
     "data": {
      "image/png": "[encoded data removed]",
      "text/plain": [
       "<Figure size 432x288 with 1 Axes>"
      ]
     },
     "metadata": {
      "needs_background": "light"
     },
     "output_type": "display_data"
    }
   ],
   "source": [
    "plt.hist(h1nohist, label = f\"No Discount: {len(h1nohist)}\", alpha=0.7)\n",
    "plt.hist(h1yeshist, label = f\"Discount: {len(h1yeshist)}\", alpha=0.7)\n",
    "plt.axvline(np.mean(h1nohist), color='blue', label = f\"No Discount Average: {round(np.mean(h1nohist),2)}\")\n",
    "plt.axvline(np.mean(h1yeshist), color='orange', label = f\"Discount Average: {round(np.mean(h1yeshist),2)}\")\n",
    "plt.legend()\n",
    "plt.show()"
   ]
  },
  {
   "cell_type": "markdown",
   "metadata": {},
   "source": [
    "From this graph, we can see that there was a smaller quantity of discounted products that were sold. However, the quantity average per order for discounted products is higher."
   ]
  },
  {
   "cell_type": "markdown",
   "metadata": {},
   "source": [
    "Function that will tell us if we reject or fail to reject the Null Hypothesis"
   ]
  },
  {
   "cell_type": "code",
   "execution_count": 10,
   "metadata": {},
   "outputs": [],
   "source": [
    "def test(results, alpha):\n",
    "    if (results[1] > 0.05):\n",
    "        print(f\"Fail to reject the Null Hypothesis.\\nResults are not statistically significant with p-value = {results[1]}\")\n",
    "    else:\n",
    "        print(f\"Reject the Null Hypothesis.\\nResults are statistically significant with p-value = {results[1]}\")"
   ]
  },
  {
   "cell_type": "markdown",
   "metadata": {},
   "source": [
    "#### Perform the t-test to find the p-value"
   ]
  },
  {
   "cell_type": "code",
   "execution_count": 11,
   "metadata": {},
   "outputs": [
    {
     "name": "stdout",
     "output_type": "stream",
     "text": [
      "Reject the Null Hypothesis.\n",
      "Results are statistically significant with p-value = 1.1440924523215966e-10\n"
     ]
    }
   ],
   "source": [
    "results = stats.ttest_ind(h1no['Quantity'],h1yes['Quantity'])\n",
    "\n",
    "test(results, 0.05)"
   ]
  },
  {
   "cell_type": "markdown",
   "metadata": {},
   "source": [
    "The p-value is much less than the 0.05 significance level, therefore we can reject the null hypothesis. This tells us that a discount does impact the quantity of products ordered.<br><br>\n",
    "Moving on to part 2 of the question..."
   ]
  },
  {
   "cell_type": "markdown",
   "metadata": {},
   "source": [
    "### Part 2\n",
    ">**$H_{o}$: Levels of discount have equal effects on the number of products customers order equally.**\n",
    "\n",
    ">**$H_{a}$: Levels of discount have different effects on the number of products customers order.**"
   ]
  },
  {
   "cell_type": "markdown",
   "metadata": {},
   "source": [
    "This question only applies to products with a discount. So I will move on with the dataset where 'Discount' is greater than 0."
   ]
  },
  {
   "cell_type": "code",
   "execution_count": 12,
   "metadata": {
    "scrolled": true
   },
   "outputs": [
    {
     "data": {
      "text/plain": [
       "0.05    185\n",
       "0.10    173\n",
       "0.20    161\n",
       "0.15    157\n",
       "0.25    154\n",
       "0.03      3\n",
       "0.02      2\n",
       "0.04      1\n",
       "0.06      1\n",
       "0.01      1\n",
       "Name: Discount, dtype: int64"
      ]
     },
     "execution_count": 12,
     "metadata": {},
     "output_type": "execute_result"
    }
   ],
   "source": [
    "h1yes.Discount.value_counts()"
   ]
  },
  {
   "cell_type": "markdown",
   "metadata": {},
   "source": [
    "The value counts are extremely low for discount levels of 0.01, 0.02, 0.03, 0.04, and 0.06. Because the count is so low, I will delete those records from the data."
   ]
  },
  {
   "cell_type": "code",
   "execution_count": 13,
   "metadata": {},
   "outputs": [],
   "source": [
    "h1yes = h1yes.drop(h1yes[(h1yes['Discount'] < 0.05) | (h1yes['Discount'] == 0.06)].index)"
   ]
  },
  {
   "cell_type": "code",
   "execution_count": 14,
   "metadata": {
    "scrolled": true
   },
   "outputs": [
    {
     "data": {
      "text/plain": [
       "0.05    185\n",
       "0.10    173\n",
       "0.20    161\n",
       "0.15    157\n",
       "0.25    154\n",
       "Name: Discount, dtype: int64"
      ]
     },
     "execution_count": 14,
     "metadata": {},
     "output_type": "execute_result"
    }
   ],
   "source": [
    "h1yes.Discount.value_counts()"
   ]
  },
  {
   "cell_type": "markdown",
   "metadata": {},
   "source": [
    "#### Bar graph to visualize the quantity means in discount levels"
   ]
  },
  {
   "cell_type": "code",
   "execution_count": 15,
   "metadata": {},
   "outputs": [
    {
     "data": {
      "image/png": "[encoded data removed]",
      "text/plain": [
       "<Figure size 432x288 with 1 Axes>"
      ]
     },
     "metadata": {
      "needs_background": "light"
     },
     "output_type": "display_data"
    }
   ],
   "source": [
    "X = []\n",
    "y = []\n",
    "for i in h1yes['Discount'].unique():\n",
    "    X.append(i)\n",
    "    y.append(round(h1yes['Quantity'][h1yes['Discount'] == i].mean(),2))\n",
    "\n",
    "fig, ax = plt.subplots()\n",
    "width = 0.75\n",
    "ind = np.arange(len(y))\n",
    "ax.barh(ind, y, width, color=\"navy\")\n",
    "ax.set_yticks(ind+width/2)\n",
    "ax.set_yticklabels(X, minor=False)\n",
    "ax.set_xlim([0,35])\n",
    "plt.title('Average Product Quantity per Discount Level')\n",
    "plt.xlabel('Average Quantity')\n",
    "plt.ylabel('Discount Levels')\n",
    "\n",
    "for i, v in enumerate(y):\n",
    "    ax.text(v + 1, i - 0.10, str(v), color='black')"
   ]
  },
  {
   "cell_type": "markdown",
   "metadata": {},
   "source": [
    "#### Perform the ANOVA Test to find p-value"
   ]
  },
  {
   "cell_type": "code",
   "execution_count": 16,
   "metadata": {},
   "outputs": [
    {
     "data": {
      "text/html": [
       "<div>\n",
       "<style scoped>\n",
       "    .dataframe tbody tr th:only-of-type {\n",
       "        vertical-align: middle;\n",
       "    }\n",
       "\n",
       "    .dataframe tbody tr th {\n",
       "        vertical-align: top;\n",
       "    }\n",
       "\n",
       "    .dataframe thead th {\n",
       "        text-align: right;\n",
       "    }\n",
       "</style>\n",
       "<table border=\"1\" class=\"dataframe\">\n",
       "  <thead>\n",
       "    <tr style=\"text-align: right;\">\n",
       "      <th></th>\n",
       "      <th>sum_sq</th>\n",
       "      <th>df</th>\n",
       "      <th>F</th>\n",
       "      <th>PR(&gt;F)</th>\n",
       "    </tr>\n",
       "  </thead>\n",
       "  <tbody>\n",
       "    <tr>\n",
       "      <th>C(Discount)</th>\n",
       "      <td>1159.517551</td>\n",
       "      <td>4.0</td>\n",
       "      <td>0.674103</td>\n",
       "      <td>0.610041</td>\n",
       "    </tr>\n",
       "    <tr>\n",
       "      <th>Residual</th>\n",
       "      <td>354768.342690</td>\n",
       "      <td>825.0</td>\n",
       "      <td>NaN</td>\n",
       "      <td>NaN</td>\n",
       "    </tr>\n",
       "  </tbody>\n",
       "</table>\n",
       "</div>"
      ],
      "text/plain": [
       "                    sum_sq     df         F    PR(>F)\n",
       "C(Discount)    1159.517551    4.0  0.674103  0.610041\n",
       "Residual     354768.342690  825.0       NaN       NaN"
      ]
     },
     "execution_count": 16,
     "metadata": {},
     "output_type": "execute_result"
    }
   ],
   "source": [
    "formula = 'Quantity ~ C(Discount)'\n",
    "lm = ols(formula, h1yes).fit()\n",
    "table = sm.stats.anova_lm(lm, typ=2)\n",
    "table"
   ]
  },
  {
   "cell_type": "markdown",
   "metadata": {},
   "source": [
    "We fail to reject the null hypothesis because the p-value of 0.61 is greater than our significance level of 0.05."
   ]
  },
  {
   "cell_type": "markdown",
   "metadata": {},
   "source": [
    "Turning each discount level into an array for a Tukey test"
   ]
  },
  {
   "cell_type": "code",
   "execution_count": 17,
   "metadata": {},
   "outputs": [],
   "source": [
    "h05 = np.array(h1yes['Quantity'][h1yes['Discount'] == 0.05])\n",
    "h10 = np.array(h1yes['Quantity'][h1yes['Discount'] == 0.10])\n",
    "h15 = np.array(h1yes['Quantity'][h1yes['Discount'] == 0.15])\n",
    "h20 = np.array(h1yes['Quantity'][h1yes['Discount'] == 0.20])\n",
    "h25 = np.array(h1yes['Quantity'][h1yes['Discount'] == 0.25])\n"
   ]
  },
  {
   "cell_type": "markdown",
   "metadata": {},
   "source": [
    "#### Perform the Tukey Test to compare each individual discount level"
   ]
  },
  {
   "cell_type": "code",
   "execution_count": 18,
   "metadata": {},
   "outputs": [],
   "source": [
    "v = np.concatenate((h05, h10, h15, h20, h25))\n",
    "labels = ['h05'] * len(h05) + ['h10'] * len(h10) + ['h15'] * len(h15) + ['h20'] * len(h20) + ['h25'] * len(h25)\n",
    "tukey_results = pairwise_tukeyhsd(v, labels, 0.05)"
   ]
  },
  {
   "cell_type": "code",
   "execution_count": 19,
   "metadata": {},
   "outputs": [
    {
     "name": "stdout",
     "output_type": "stream",
     "text": [
      "Multiple Comparison of Means - Tukey HSD,FWER=0.05\n",
      "============================================\n",
      "group1 group2 meandiff  lower  upper  reject\n",
      "--------------------------------------------\n",
      " h05    h10   -2.7738  -8.7696 3.222  False \n",
      " h05    h15    0.3714  -5.7803 6.523  False \n",
      " h05    h20    -0.986  -7.0962 5.1242 False \n",
      " h05    h25    0.2294  -5.9546 6.4134 False \n",
      " h10    h15    3.1452  -3.1037 9.394  False \n",
      " h10    h20    1.7879  -4.4202 7.9959 False \n",
      " h10    h25    3.0033  -3.2774 9.2839 False \n",
      " h15    h20   -1.3573   -7.716 5.0014 False \n",
      " h15    h25   -0.1419  -6.5715 6.2877 False \n",
      " h20    h25    1.2154  -5.1745 7.6054 False \n",
      "--------------------------------------------\n"
     ]
    }
   ],
   "source": [
    "print(tukey_results)"
   ]
  },
  {
   "cell_type": "markdown",
   "metadata": {},
   "source": [
    "All comparisons resulted in failing to reject the null hypothesis."
   ]
  },
  {
   "cell_type": "markdown",
   "metadata": {},
   "source": [
    "<b>The results of our hypotheses tests tell us that discounts do have a statistically significant effect on the quantity of a product in an order. However, the amount of discount does not have an impact."
   ]
  },
  {
   "cell_type": "markdown",
   "metadata": {},
   "source": [
    "## Hypothesis Test 2\n",
    "\n",
    "### Do some regions have higher average order sales than other regions?\n",
    "\n",
    ">**$H_{o}$: The average order sale is the same across all regions.**\n",
    "\n",
    ">**$H_{a}$: The average order sale is different amongst regions.**"
   ]
  },
  {
   "cell_type": "markdown",
   "metadata": {},
   "source": [
    "This hypothesis requires me to use the 'Region' and 'Order Details' tables. In order for me to do that, I need to join all the tables in between into one dataset."
   ]
  },
  {
   "cell_type": "code",
   "execution_count": 20,
   "metadata": {
    "scrolled": true
   },
   "outputs": [],
   "source": [
    "h2 = pd.merge(regions,\n",
    "              territories,\n",
    "              left_on = 'Id',\n",
    "              right_on = 'RegionId',\n",
    "              how = 'left')\n",
    "h2 = pd.merge(h2,\n",
    "             emp_territories,\n",
    "             left_on = 'Id_y',\n",
    "             right_on = 'TerritoryId',\n",
    "             how = 'left')\n",
    "h2 = pd.merge(h2,\n",
    "             employees,\n",
    "             left_on = 'EmployeeId',\n",
    "             right_on = 'Id',\n",
    "             how = 'left')\n",
    "h2 = pd.merge(h2,\n",
    "             orders,\n",
    "             left_on = 'EmployeeId',\n",
    "             right_on = 'EmployeeId',\n",
    "             how = 'left')\n",
    "h2 = pd.merge(h2,\n",
    "             order_details,\n",
    "             left_on = 'Id',\n",
    "             right_on = 'OrderId',\n",
    "             how = 'left')"
   ]
  },
  {
   "cell_type": "markdown",
   "metadata": {},
   "source": [
    "Grabbing only the necessary fields"
   ]
  },
  {
   "cell_type": "code",
   "execution_count": 21,
   "metadata": {},
   "outputs": [],
   "source": [
    "h2 = h2[['RegionDescription',\n",
    "    'LastName',\n",
    "    'FirstName',\n",
    "    'Title',\n",
    "    'OrderDate',\n",
    "    'OrderId',\n",
    "    'ProductId',\n",
    "    'UnitPrice',\n",
    "    'Quantity',\n",
    "    'Discount'\n",
    "   ]]"
   ]
  },
  {
   "cell_type": "markdown",
   "metadata": {},
   "source": [
    "'TerritoryDescription' and 'Id_y' caused duplicates in dataset. <br>Getting rid of all the duplicates, essentially grouping all fields"
   ]
  },
  {
   "cell_type": "code",
   "execution_count": 22,
   "metadata": {},
   "outputs": [],
   "source": [
    "h2 = h2.drop_duplicates(subset = (\"OrderId\",\"ProductId\")).reset_index()"
   ]
  },
  {
   "cell_type": "markdown",
   "metadata": {},
   "source": [
    "Creating a sales total field"
   ]
  },
  {
   "cell_type": "code",
   "execution_count": 23,
   "metadata": {},
   "outputs": [],
   "source": [
    "h2['Total'] = h2['UnitPrice']*(1 - h2['Discount']) * h2['Quantity']"
   ]
  },
  {
   "cell_type": "markdown",
   "metadata": {},
   "source": [
    "Summing the totals for the same OrderId"
   ]
  },
  {
   "cell_type": "code",
   "execution_count": 24,
   "metadata": {},
   "outputs": [],
   "source": [
    "h2 = h2.groupby(['RegionDescription','OrderId','OrderDate']).sum().reset_index()"
   ]
  },
  {
   "cell_type": "markdown",
   "metadata": {},
   "source": [
    "#### Bar graph to visualize the average sales per order per region"
   ]
  },
  {
   "cell_type": "code",
   "execution_count": 25,
   "metadata": {},
   "outputs": [
    {
     "data": {
      "image/png": "[encoded data removed]",
      "text/plain": [
       "<Figure size 432x288 with 1 Axes>"
      ]
     },
     "metadata": {
      "needs_background": "light"
     },
     "output_type": "display_data"
    }
   ],
   "source": [
    "X = []\n",
    "y = []\n",
    "for i in h2['RegionDescription'].unique():\n",
    "    X.append(i)\n",
    "    y.append(round(h2['Total'][h2['RegionDescription'] == i].mean(),2))\n",
    "\n",
    "fig, ax = plt.subplots()\n",
    "width = 0.75\n",
    "ind = np.arange(len(y))\n",
    "ax.barh(ind, y, width, color=\"navy\")\n",
    "ax.set_yticks(ind+width/2)\n",
    "ax.set_yticklabels(X, minor=False)\n",
    "ax.set_xlim([0,2000])\n",
    "plt.title('Average Sale Price per order per Region')\n",
    "plt.xlabel('Sale Price')\n",
    "plt.ylabel('Regions')\n",
    "\n",
    "for i, v in enumerate(y):\n",
    "    ax.text(v + 1, i - 0.10, str(v), color='black')"
   ]
  },
  {
   "cell_type": "markdown",
   "metadata": {},
   "source": [
    "#### Perform ANOVA test to find p-value"
   ]
  },
  {
   "cell_type": "code",
   "execution_count": 26,
   "metadata": {},
   "outputs": [
    {
     "data": {
      "text/html": [
       "<div>\n",
       "<style scoped>\n",
       "    .dataframe tbody tr th:only-of-type {\n",
       "        vertical-align: middle;\n",
       "    }\n",
       "\n",
       "    .dataframe tbody tr th {\n",
       "        vertical-align: top;\n",
       "    }\n",
       "\n",
       "    .dataframe thead th {\n",
       "        text-align: right;\n",
       "    }\n",
       "</style>\n",
       "<table border=\"1\" class=\"dataframe\">\n",
       "  <thead>\n",
       "    <tr style=\"text-align: right;\">\n",
       "      <th></th>\n",
       "      <th>df</th>\n",
       "      <th>sum_sq</th>\n",
       "      <th>mean_sq</th>\n",
       "      <th>F</th>\n",
       "      <th>PR(&gt;F)</th>\n",
       "    </tr>\n",
       "  </thead>\n",
       "  <tbody>\n",
       "    <tr>\n",
       "      <th>C(RegionDescription)</th>\n",
       "      <td>3.0</td>\n",
       "      <td>6.117880e+06</td>\n",
       "      <td>2.039293e+06</td>\n",
       "      <td>0.598096</td>\n",
       "      <td>0.616367</td>\n",
       "    </tr>\n",
       "    <tr>\n",
       "      <th>Residual</th>\n",
       "      <td>826.0</td>\n",
       "      <td>2.816365e+09</td>\n",
       "      <td>3.409643e+06</td>\n",
       "      <td>NaN</td>\n",
       "      <td>NaN</td>\n",
       "    </tr>\n",
       "  </tbody>\n",
       "</table>\n",
       "</div>"
      ],
      "text/plain": [
       "                         df        sum_sq       mean_sq         F    PR(>F)\n",
       "C(RegionDescription)    3.0  6.117880e+06  2.039293e+06  0.598096  0.616367\n",
       "Residual              826.0  2.816365e+09  3.409643e+06       NaN       NaN"
      ]
     },
     "execution_count": 26,
     "metadata": {},
     "output_type": "execute_result"
    }
   ],
   "source": [
    "formula = 'Total ~ C(RegionDescription)'\n",
    "lm = ols(formula, h2).fit()\n",
    "table = sm.stats.anova_lm(lm, type=2)\n",
    "table"
   ]
  },
  {
   "cell_type": "markdown",
   "metadata": {},
   "source": [
    "We fail to reject the null hypothesis because the p-value of 0.62 is greater than our alpha level of 0.05.<br><br>\n",
    "Let's try a Tukey Test."
   ]
  },
  {
   "cell_type": "markdown",
   "metadata": {},
   "source": [
    "Turning each region into an array"
   ]
  },
  {
   "cell_type": "code",
   "execution_count": 27,
   "metadata": {},
   "outputs": [],
   "source": [
    "west = np.array(h2['Total'][h2['RegionDescription'] == 'Western'])\n",
    "south = np.array(h2['Total'][h2['RegionDescription'] == 'Southern'])\n",
    "north = np.array(h2['Total'][h2['RegionDescription'] == 'Northern'])\n",
    "east = np.array(h2['Total'][h2['RegionDescription'] == 'Eastern'])"
   ]
  },
  {
   "cell_type": "markdown",
   "metadata": {},
   "source": [
    "#### Perform the Tukey Test to compare each region with one another"
   ]
  },
  {
   "cell_type": "code",
   "execution_count": 28,
   "metadata": {},
   "outputs": [],
   "source": [
    "v = np.concatenate((west, south, north, east))\n",
    "labels = ['west'] * len(west) + ['south'] * len(south) + ['north'] * len(north) + ['east'] * len(east)\n",
    "tukey_results = pairwise_tukeyhsd(v, labels, 0.05)"
   ]
  },
  {
   "cell_type": "code",
   "execution_count": 29,
   "metadata": {},
   "outputs": [
    {
     "name": "stdout",
     "output_type": "stream",
     "text": [
      "Multiple Comparison of Means - Tukey HSD,FWER=0.05\n",
      "=================================================\n",
      "group1 group2  meandiff   lower    upper   reject\n",
      "-------------------------------------------------\n",
      " east  north  -194.6076 -650.5672 261.3519 False \n",
      " east  south    13.43   -468.3437 495.2036 False \n",
      " east   west  -155.5981 -621.1579 309.9617 False \n",
      "north  south   208.0376 -367.8374 783.9127 False \n",
      "north   west   39.0096  -523.3712 601.3903 False \n",
      "south   west   -169.028 -752.5337 414.4776 False \n",
      "-------------------------------------------------\n"
     ]
    }
   ],
   "source": [
    "print(tukey_results)"
   ]
  },
  {
   "cell_type": "markdown",
   "metadata": {},
   "source": [
    "All comparisons resulted in failing to reject the null hypothesis"
   ]
  },
  {
   "cell_type": "markdown",
   "metadata": {},
   "source": [
    "However, let's take a look at the count of orders per region. Although the average sale price per order is statistically insignificant, the number of orders may have an impact."
   ]
  },
  {
   "cell_type": "code",
   "execution_count": 30,
   "metadata": {
    "scrolled": true
   },
   "outputs": [
    {
     "data": {
      "image/png": "[encoded data removed]",
      "text/plain": [
       "<Figure size 432x288 with 1 Axes>"
      ]
     },
     "metadata": {
      "needs_background": "light"
     },
     "output_type": "display_data"
    }
   ],
   "source": [
    "X = []\n",
    "y = []\n",
    "for i in h2['RegionDescription'].unique():\n",
    "    X.append(i)\n",
    "    y.append(round(h2['OrderId'][h2['RegionDescription'] == i].count(),2))\n",
    "    \n",
    "fig, ax = plt.subplots()\n",
    "width = 0.75\n",
    "ind = np.arange(len(y))\n",
    "ax.barh(ind, y, width, color=\"navy\")\n",
    "ax.set_yticks(ind+width/2)\n",
    "ax.set_yticklabels(X, minor=False)\n",
    "ax.set_xlim([0,500])\n",
    "plt.title('Order Count per Region')\n",
    "plt.xlabel('Number of Orders')\n",
    "plt.ylabel('Regions')\n",
    "\n",
    "for i, v in enumerate(y):\n",
    "    ax.text(v + 1, i - 0.10, str(v), color='black')"
   ]
  },
  {
   "cell_type": "markdown",
   "metadata": {},
   "source": [
    "Although the average sale price per region is statistically insignificant, clearly the Eastern region has a much higher order count.<br>\n",
    "Maybe the Eastern region had a headstart in sales. Let's take a look at the sales per quarter."
   ]
  },
  {
   "cell_type": "markdown",
   "metadata": {},
   "source": [
    "Creating a 'Quarter' field to indicate the yearly quarters."
   ]
  },
  {
   "cell_type": "code",
   "execution_count": 31,
   "metadata": {},
   "outputs": [],
   "source": [
    "h2['Quarter'] = h2['OrderDate'].apply(lambda x: 1 if '2012-07-01' <= x < '2012-10-01'\n",
    "                                      else (2 if '2012-10-01' <= x < '2013-01-01' \n",
    "                                            else (3 if '2013-01-01' <= x < '2013-04-01'\n",
    "                                                 else (4 if '2013-04-01' <= x < '2013-07-01'\n",
    "                                                      else (5 if '2013-07-01' <= x < '2013-10-01'\n",
    "                                                           else (6 if '2013-10-01' <= x < '2014-01-01'\n",
    "                                                                else (7 if '2014-01-01' <= x < '2014-04-01'\n",
    "                                                                     else (8 if '2014-04-01' <= x < '2014-07-01'\n",
    "                                                                          else 0))))))))"
   ]
  },
  {
   "cell_type": "markdown",
   "metadata": {},
   "source": [
    "#### Line graph to show the progress of each region per quarter"
   ]
  },
  {
   "cell_type": "code",
   "execution_count": 32,
   "metadata": {},
   "outputs": [
    {
     "data": {
      "image/png": "[encoded data removed]",
      "text/plain": [
       "<Figure size 576x288 with 1 Axes>"
      ]
     },
     "metadata": {
      "needs_background": "light"
     },
     "output_type": "display_data"
    }
   ],
   "source": [
    "fig = interaction_plot(h2['Quarter'],h2['RegionDescription'],h2['OrderId'],func=len)\n",
    "fig.set_size_inches(8,4)\n",
    "plt.xticks(np.arange(1,9,step=1), ('1','2','3','4','5','6','7','8'))\n",
    "plt.xlabel('Quarter')\n",
    "plt.ylabel('Number of Orders')\n",
    "plt.title('Region Order Amounts per Quarter')\n",
    "plt.show()"
   ]
  },
  {
   "cell_type": "markdown",
   "metadata": {},
   "source": [
    "The graph tells us that the Eastern region has had more sales than other regions every quarter. Quarter 7, 1st quarter of 2014, had a huge spike in orders for all regions."
   ]
  },
  {
   "cell_type": "markdown",
   "metadata": {},
   "source": [
    "<b> The results of this hypothesis test tells us that the average sale price per order is statistically insignificant. However, the Eastern region has had a much higher order amount every quarter compared to the other regions."
   ]
  },
  {
   "cell_type": "markdown",
   "metadata": {},
   "source": [
    "## Hypothesis Test 3\n",
    "\n",
    "### Did the Price Increase on April 5th, 2013 cause a statistically significant effect on number of products customers order?\n",
    "\n",
    "According to the data on 'Order Details' table, the price of every product increased some time between April 4th, 2013 and April 7th, 2013. No orders were taken place during this time period. This hypothesis test will determine if the price hike caused a statistically significant effect on number of products customers order.\n",
    "\n",
    ">**$H_{o}$: Price increase did not effect the number of products customers order.**\n",
    "\n",
    ">**$H_{a}$: Price increase did effect the number of products customers order.**"
   ]
  },
  {
   "cell_type": "code",
   "execution_count": 33,
   "metadata": {
    "scrolled": true
   },
   "outputs": [],
   "source": [
    "h3 = pd.merge(orders,\n",
    "             order_details,\n",
    "             left_on='Id',\n",
    "             right_on='OrderId',\n",
    "             how='left')"
   ]
  },
  {
   "cell_type": "markdown",
   "metadata": {},
   "source": [
    "Grabbing only the fields we need"
   ]
  },
  {
   "cell_type": "code",
   "execution_count": 34,
   "metadata": {},
   "outputs": [],
   "source": [
    "h3 = h3[['ProductId','OrderDate','UnitPrice','Quantity']]"
   ]
  },
  {
   "cell_type": "markdown",
   "metadata": {},
   "source": [
    "Taking a look at the order dates of the different prices for each product"
   ]
  },
  {
   "cell_type": "code",
   "execution_count": 35,
   "metadata": {
    "scrolled": true
   },
   "outputs": [
    {
     "data": {
      "text/html": [
       "<div>\n",
       "<style scoped>\n",
       "    .dataframe tbody tr th:only-of-type {\n",
       "        vertical-align: middle;\n",
       "    }\n",
       "\n",
       "    .dataframe tbody tr th {\n",
       "        vertical-align: top;\n",
       "    }\n",
       "\n",
       "    .dataframe thead th {\n",
       "        text-align: right;\n",
       "    }\n",
       "</style>\n",
       "<table border=\"1\" class=\"dataframe\">\n",
       "  <thead>\n",
       "    <tr style=\"text-align: right;\">\n",
       "      <th></th>\n",
       "      <th></th>\n",
       "      <th>OrderDate</th>\n",
       "    </tr>\n",
       "    <tr>\n",
       "      <th>ProductId</th>\n",
       "      <th>UnitPrice</th>\n",
       "      <th></th>\n",
       "    </tr>\n",
       "  </thead>\n",
       "  <tbody>\n",
       "    <tr>\n",
       "      <th rowspan=\"2\" valign=\"top\">1</th>\n",
       "      <th>14.40</th>\n",
       "      <td>2013-03-17</td>\n",
       "    </tr>\n",
       "    <tr>\n",
       "      <th>18.00</th>\n",
       "      <td>2014-05-05</td>\n",
       "    </tr>\n",
       "    <tr>\n",
       "      <th rowspan=\"2\" valign=\"top\">2</th>\n",
       "      <th>15.20</th>\n",
       "      <td>2013-03-25</td>\n",
       "    </tr>\n",
       "    <tr>\n",
       "      <th>19.00</th>\n",
       "      <td>2014-05-06</td>\n",
       "    </tr>\n",
       "    <tr>\n",
       "      <th rowspan=\"2\" valign=\"top\">3</th>\n",
       "      <th>8.00</th>\n",
       "      <td>2013-03-25</td>\n",
       "    </tr>\n",
       "    <tr>\n",
       "      <th>10.00</th>\n",
       "      <td>2014-05-06</td>\n",
       "    </tr>\n",
       "    <tr>\n",
       "      <th rowspan=\"2\" valign=\"top\">4</th>\n",
       "      <th>17.60</th>\n",
       "      <td>2013-03-04</td>\n",
       "    </tr>\n",
       "    <tr>\n",
       "      <th>22.00</th>\n",
       "      <td>2014-05-06</td>\n",
       "    </tr>\n",
       "    <tr>\n",
       "      <th rowspan=\"2\" valign=\"top\">5</th>\n",
       "      <th>17.00</th>\n",
       "      <td>2012-12-13</td>\n",
       "    </tr>\n",
       "    <tr>\n",
       "      <th>21.35</th>\n",
       "      <td>2014-04-24</td>\n",
       "    </tr>\n",
       "    <tr>\n",
       "      <th rowspan=\"2\" valign=\"top\">6</th>\n",
       "      <th>20.00</th>\n",
       "      <td>2012-10-09</td>\n",
       "    </tr>\n",
       "    <tr>\n",
       "      <th>25.00</th>\n",
       "      <td>2014-05-06</td>\n",
       "    </tr>\n",
       "    <tr>\n",
       "      <th rowspan=\"2\" valign=\"top\">7</th>\n",
       "      <th>24.00</th>\n",
       "      <td>2013-03-11</td>\n",
       "    </tr>\n",
       "    <tr>\n",
       "      <th>30.00</th>\n",
       "      <td>2014-05-06</td>\n",
       "    </tr>\n",
       "    <tr>\n",
       "      <th rowspan=\"2\" valign=\"top\">8</th>\n",
       "      <th>32.00</th>\n",
       "      <td>2012-11-04</td>\n",
       "    </tr>\n",
       "    <tr>\n",
       "      <th>40.00</th>\n",
       "      <td>2014-05-06</td>\n",
       "    </tr>\n",
       "    <tr>\n",
       "      <th rowspan=\"2\" valign=\"top\">9</th>\n",
       "      <th>77.60</th>\n",
       "      <td>2013-01-21</td>\n",
       "    </tr>\n",
       "    <tr>\n",
       "      <th>97.00</th>\n",
       "      <td>2014-01-23</td>\n",
       "    </tr>\n",
       "    <tr>\n",
       "      <th rowspan=\"2\" valign=\"top\">10</th>\n",
       "      <th>24.80</th>\n",
       "      <td>2013-03-18</td>\n",
       "    </tr>\n",
       "    <tr>\n",
       "      <th>31.00</th>\n",
       "      <td>2014-05-06</td>\n",
       "    </tr>\n",
       "    <tr>\n",
       "      <th rowspan=\"3\" valign=\"top\">11</th>\n",
       "      <th>14.00</th>\n",
       "      <td>2012-07-04</td>\n",
       "    </tr>\n",
       "    <tr>\n",
       "      <th>16.80</th>\n",
       "      <td>2013-03-28</td>\n",
       "    </tr>\n",
       "    <tr>\n",
       "      <th>21.00</th>\n",
       "      <td>2014-05-05</td>\n",
       "    </tr>\n",
       "    <tr>\n",
       "      <th rowspan=\"2\" valign=\"top\">12</th>\n",
       "      <th>30.40</th>\n",
       "      <td>2013-02-07</td>\n",
       "    </tr>\n",
       "    <tr>\n",
       "      <th>38.00</th>\n",
       "      <td>2014-05-06</td>\n",
       "    </tr>\n",
       "    <tr>\n",
       "      <th rowspan=\"2\" valign=\"top\">13</th>\n",
       "      <th>4.80</th>\n",
       "      <td>2013-03-03</td>\n",
       "    </tr>\n",
       "    <tr>\n",
       "      <th>6.00</th>\n",
       "      <td>2014-05-06</td>\n",
       "    </tr>\n",
       "    <tr>\n",
       "      <th rowspan=\"2\" valign=\"top\">14</th>\n",
       "      <th>18.60</th>\n",
       "      <td>2013-03-13</td>\n",
       "    </tr>\n",
       "    <tr>\n",
       "      <th>23.25</th>\n",
       "      <td>2014-05-06</td>\n",
       "    </tr>\n",
       "    <tr>\n",
       "      <th>15</th>\n",
       "      <th>12.40</th>\n",
       "      <td>2012-10-07</td>\n",
       "    </tr>\n",
       "    <tr>\n",
       "      <th>...</th>\n",
       "      <th>...</th>\n",
       "      <td>...</td>\n",
       "    </tr>\n",
       "    <tr>\n",
       "      <th rowspan=\"2\" valign=\"top\">63</th>\n",
       "      <th>35.10</th>\n",
       "      <td>2013-01-29</td>\n",
       "    </tr>\n",
       "    <tr>\n",
       "      <th>43.90</th>\n",
       "      <td>2014-04-22</td>\n",
       "    </tr>\n",
       "    <tr>\n",
       "      <th rowspan=\"2\" valign=\"top\">64</th>\n",
       "      <th>26.60</th>\n",
       "      <td>2013-03-19</td>\n",
       "    </tr>\n",
       "    <tr>\n",
       "      <th>33.25</th>\n",
       "      <td>2014-05-06</td>\n",
       "    </tr>\n",
       "    <tr>\n",
       "      <th rowspan=\"2\" valign=\"top\">65</th>\n",
       "      <th>16.80</th>\n",
       "      <td>2013-04-02</td>\n",
       "    </tr>\n",
       "    <tr>\n",
       "      <th>21.05</th>\n",
       "      <td>2014-04-15</td>\n",
       "    </tr>\n",
       "    <tr>\n",
       "      <th rowspan=\"2\" valign=\"top\">66</th>\n",
       "      <th>13.60</th>\n",
       "      <td>2013-04-02</td>\n",
       "    </tr>\n",
       "    <tr>\n",
       "      <th>17.00</th>\n",
       "      <td>2014-05-06</td>\n",
       "    </tr>\n",
       "    <tr>\n",
       "      <th rowspan=\"2\" valign=\"top\">67</th>\n",
       "      <th>11.20</th>\n",
       "      <td>2012-08-19</td>\n",
       "    </tr>\n",
       "    <tr>\n",
       "      <th>14.00</th>\n",
       "      <td>2014-04-28</td>\n",
       "    </tr>\n",
       "    <tr>\n",
       "      <th rowspan=\"2\" valign=\"top\">68</th>\n",
       "      <th>10.00</th>\n",
       "      <td>2013-03-31</td>\n",
       "    </tr>\n",
       "    <tr>\n",
       "      <th>12.50</th>\n",
       "      <td>2014-05-01</td>\n",
       "    </tr>\n",
       "    <tr>\n",
       "      <th rowspan=\"2\" valign=\"top\">69</th>\n",
       "      <th>28.80</th>\n",
       "      <td>2013-04-02</td>\n",
       "    </tr>\n",
       "    <tr>\n",
       "      <th>36.00</th>\n",
       "      <td>2014-04-17</td>\n",
       "    </tr>\n",
       "    <tr>\n",
       "      <th rowspan=\"2\" valign=\"top\">70</th>\n",
       "      <th>12.00</th>\n",
       "      <td>2013-03-25</td>\n",
       "    </tr>\n",
       "    <tr>\n",
       "      <th>15.00</th>\n",
       "      <td>2014-04-30</td>\n",
       "    </tr>\n",
       "    <tr>\n",
       "      <th rowspan=\"2\" valign=\"top\">71</th>\n",
       "      <th>17.20</th>\n",
       "      <td>2013-03-13</td>\n",
       "    </tr>\n",
       "    <tr>\n",
       "      <th>21.50</th>\n",
       "      <td>2014-04-21</td>\n",
       "    </tr>\n",
       "    <tr>\n",
       "      <th rowspan=\"2\" valign=\"top\">72</th>\n",
       "      <th>27.80</th>\n",
       "      <td>2013-04-04</td>\n",
       "    </tr>\n",
       "    <tr>\n",
       "      <th>34.80</th>\n",
       "      <td>2014-04-14</td>\n",
       "    </tr>\n",
       "    <tr>\n",
       "      <th rowspan=\"2\" valign=\"top\">73</th>\n",
       "      <th>12.00</th>\n",
       "      <td>2013-03-27</td>\n",
       "    </tr>\n",
       "    <tr>\n",
       "      <th>15.00</th>\n",
       "      <td>2014-05-06</td>\n",
       "    </tr>\n",
       "    <tr>\n",
       "      <th rowspan=\"2\" valign=\"top\">74</th>\n",
       "      <th>8.00</th>\n",
       "      <td>2013-03-26</td>\n",
       "    </tr>\n",
       "    <tr>\n",
       "      <th>10.00</th>\n",
       "      <td>2014-04-03</td>\n",
       "    </tr>\n",
       "    <tr>\n",
       "      <th rowspan=\"2\" valign=\"top\">75</th>\n",
       "      <th>6.20</th>\n",
       "      <td>2013-03-31</td>\n",
       "    </tr>\n",
       "    <tr>\n",
       "      <th>7.75</th>\n",
       "      <td>2014-05-06</td>\n",
       "    </tr>\n",
       "    <tr>\n",
       "      <th rowspan=\"2\" valign=\"top\">76</th>\n",
       "      <th>14.40</th>\n",
       "      <td>2013-03-14</td>\n",
       "    </tr>\n",
       "    <tr>\n",
       "      <th>18.00</th>\n",
       "      <td>2014-05-06</td>\n",
       "    </tr>\n",
       "    <tr>\n",
       "      <th rowspan=\"2\" valign=\"top\">77</th>\n",
       "      <th>10.40</th>\n",
       "      <td>2013-04-04</td>\n",
       "    </tr>\n",
       "    <tr>\n",
       "      <th>13.00</th>\n",
       "      <td>2014-05-06</td>\n",
       "    </tr>\n",
       "  </tbody>\n",
       "</table>\n",
       "<p>156 rows × 1 columns</p>\n",
       "</div>"
      ],
      "text/plain": [
       "                      OrderDate\n",
       "ProductId UnitPrice            \n",
       "1         14.40      2013-03-17\n",
       "          18.00      2014-05-05\n",
       "2         15.20      2013-03-25\n",
       "          19.00      2014-05-06\n",
       "3         8.00       2013-03-25\n",
       "          10.00      2014-05-06\n",
       "4         17.60      2013-03-04\n",
       "          22.00      2014-05-06\n",
       "5         17.00      2012-12-13\n",
       "          21.35      2014-04-24\n",
       "6         20.00      2012-10-09\n",
       "          25.00      2014-05-06\n",
       "7         24.00      2013-03-11\n",
       "          30.00      2014-05-06\n",
       "8         32.00      2012-11-04\n",
       "          40.00      2014-05-06\n",
       "9         77.60      2013-01-21\n",
       "          97.00      2014-01-23\n",
       "10        24.80      2013-03-18\n",
       "          31.00      2014-05-06\n",
       "11        14.00      2012-07-04\n",
       "          16.80      2013-03-28\n",
       "          21.00      2014-05-05\n",
       "12        30.40      2013-02-07\n",
       "          38.00      2014-05-06\n",
       "13        4.80       2013-03-03\n",
       "          6.00       2014-05-06\n",
       "14        18.60      2013-03-13\n",
       "          23.25      2014-05-06\n",
       "15        12.40      2012-10-07\n",
       "...                         ...\n",
       "63        35.10      2013-01-29\n",
       "          43.90      2014-04-22\n",
       "64        26.60      2013-03-19\n",
       "          33.25      2014-05-06\n",
       "65        16.80      2013-04-02\n",
       "          21.05      2014-04-15\n",
       "66        13.60      2013-04-02\n",
       "          17.00      2014-05-06\n",
       "67        11.20      2012-08-19\n",
       "          14.00      2014-04-28\n",
       "68        10.00      2013-03-31\n",
       "          12.50      2014-05-01\n",
       "69        28.80      2013-04-02\n",
       "          36.00      2014-04-17\n",
       "70        12.00      2013-03-25\n",
       "          15.00      2014-04-30\n",
       "71        17.20      2013-03-13\n",
       "          21.50      2014-04-21\n",
       "72        27.80      2013-04-04\n",
       "          34.80      2014-04-14\n",
       "73        12.00      2013-03-27\n",
       "          15.00      2014-05-06\n",
       "74        8.00       2013-03-26\n",
       "          10.00      2014-04-03\n",
       "75        6.20       2013-03-31\n",
       "          7.75       2014-05-06\n",
       "76        14.40      2013-03-14\n",
       "          18.00      2014-05-06\n",
       "77        10.40      2013-04-04\n",
       "          13.00      2014-05-06\n",
       "\n",
       "[156 rows x 1 columns]"
      ]
     },
     "execution_count": 35,
     "metadata": {},
     "output_type": "execute_result"
    }
   ],
   "source": [
    "h3[['ProductId','OrderDate','UnitPrice']].groupby(['ProductId','UnitPrice']).max()"
   ]
  },
  {
   "cell_type": "markdown",
   "metadata": {},
   "source": [
    "Separating the dataset into before and after the price increase"
   ]
  },
  {
   "cell_type": "code",
   "execution_count": 36,
   "metadata": {},
   "outputs": [],
   "source": [
    "h3before = h3[h3['OrderDate'] < '2013-04-05']\n",
    "h3after = h3[h3['OrderDate'] > '2013-04-05']"
   ]
  },
  {
   "cell_type": "markdown",
   "metadata": {},
   "source": [
    "#### Bar graph to visualize the average quantity per order before and after"
   ]
  },
  {
   "cell_type": "code",
   "execution_count": 37,
   "metadata": {},
   "outputs": [
    {
     "data": {
      "image/png": "[encoded data removed]",
      "text/plain": [
       "<Figure size 720x432 with 1 Axes>"
      ]
     },
     "metadata": {
      "needs_background": "light"
     },
     "output_type": "display_data"
    }
   ],
   "source": [
    "X = ['Before', 'After']\n",
    "y = [h3before['Quantity'].mean(),\n",
    "     h3after['Quantity'].mean()]\n",
    "plt.figure(figsize=(10,6))\n",
    "plt.bar(X,y)\n",
    "plt.text(s=round(y[1],2), x=1, y=10, horizontalalignment='center',size=18)\n",
    "plt.text(s=round(y[0],2), x=0, y=10, horizontalalignment='center',size=18)\n",
    "plt.ylabel('Average Quantity')\n",
    "plt.xlabel('04-05-2013 Price Increase')\n",
    "plt.title('Before vs After Price Increase Average Quantity of Product Per Order')\n",
    "plt.show()"
   ]
  },
  {
   "cell_type": "markdown",
   "metadata": {},
   "source": [
    "The bar graph tells us there wasn't much of a differencce. The average order decreased slightly after the price increase."
   ]
  },
  {
   "cell_type": "markdown",
   "metadata": {},
   "source": [
    "#### Perform a t-test to find the p-value"
   ]
  },
  {
   "cell_type": "code",
   "execution_count": 38,
   "metadata": {},
   "outputs": [
    {
     "name": "stdout",
     "output_type": "stream",
     "text": [
      "Fail to reject the Null Hypothesis.\n",
      "Results are not statistically significant with p-value = 0.2632745012187658\n"
     ]
    }
   ],
   "source": [
    "results = stats.ttest_ind(h3before['Quantity'],h3after['Quantity'])\n",
    "\n",
    "test(results, 0.05)"
   ]
  },
  {
   "cell_type": "markdown",
   "metadata": {},
   "source": [
    "<b> The hypothesis test tells us that, surprisingly, the quantity of products per order stayed almost the same despite the price increase. Also, according to the line graph from hypothesis test 2, the number of orders generally stayed the same between quarter 3 and 4 which is when the price increase took place."
   ]
  },
  {
   "cell_type": "markdown",
   "metadata": {},
   "source": [
    "## Hypothesis Test 4\n",
    "\n",
    "### Do some employees have higher total sales per quarter than others?\n",
    "\n",
    "Here we have hypothesis test with 2 categorical factors, employee and quarter of year.\n",
    "\n",
    ">**$H_{o}$: Employees have the same total sales per month.**\n",
    "\n",
    ">**$H_{a}$: Employees have different total sales per month.**"
   ]
  },
  {
   "cell_type": "code",
   "execution_count": 39,
   "metadata": {},
   "outputs": [],
   "source": [
    "h4 = pd.merge(employees,\n",
    "             orders,\n",
    "             left_on='Id',\n",
    "             right_on='EmployeeId',\n",
    "             how='left')\n",
    "h4 = pd.merge(h4,\n",
    "             order_details,\n",
    "             left_on='Id_y',\n",
    "             right_on='OrderId',\n",
    "             how='left')"
   ]
  },
  {
   "cell_type": "markdown",
   "metadata": {},
   "source": [
    "Grabbing the fields we need"
   ]
  },
  {
   "cell_type": "code",
   "execution_count": 40,
   "metadata": {
    "scrolled": false
   },
   "outputs": [],
   "source": [
    "h4 = h4[['LastName','FirstName','Title','OrderDate','ProductId','OrderId','UnitPrice','Quantity','Discount']]"
   ]
  },
  {
   "cell_type": "markdown",
   "metadata": {},
   "source": [
    "Creating the 'Total' field for total sales"
   ]
  },
  {
   "cell_type": "code",
   "execution_count": 41,
   "metadata": {},
   "outputs": [],
   "source": [
    "h4['Total'] = h4['UnitPrice']*(1-h4['Discount'])*h4['Quantity']"
   ]
  },
  {
   "cell_type": "markdown",
   "metadata": {},
   "source": [
    "Creating the 'Quater' field to indicate which quarter of the year"
   ]
  },
  {
   "cell_type": "code",
   "execution_count": 42,
   "metadata": {},
   "outputs": [],
   "source": [
    "h4['Quarter'] = h4['OrderDate'].apply(lambda x: 1 if '2012-07-01' <= x < '2012-10-01'\n",
    "                                      else (2 if '2012-10-01' <= x < '2013-01-01' \n",
    "                                            else (3 if '2013-01-01' <= x < '2013-04-01'\n",
    "                                                 else (4 if '2013-04-01' <= x < '2013-07-01'\n",
    "                                                      else (5 if '2013-07-01' <= x < '2013-10-01'\n",
    "                                                           else (6 if '2013-10-01' <= x < '2014-01-01'\n",
    "                                                                else (7 if '2014-01-01' <= x < '2014-04-01'\n",
    "                                                                     else (8 if '2014-04-01' <= x < '2014-07-01'\n",
    "                                                                          else 0))))))))"
   ]
  },
  {
   "cell_type": "markdown",
   "metadata": {},
   "source": [
    "Grouping the records and summing the total sales per employee per quarter"
   ]
  },
  {
   "cell_type": "code",
   "execution_count": 43,
   "metadata": {},
   "outputs": [],
   "source": [
    "h4 = h4[['LastName','Quarter','Total']].groupby(['LastName','Quarter']).sum().reset_index()"
   ]
  },
  {
   "cell_type": "markdown",
   "metadata": {},
   "source": [
    "#### Line graph to show the progress of each employee's total sales per quarter"
   ]
  },
  {
   "cell_type": "code",
   "execution_count": 44,
   "metadata": {},
   "outputs": [
    {
     "data": {
      "image/png": "[encoded data removed]",
      "text/plain": [
       "<Figure size 1152x720 with 1 Axes>"
      ]
     },
     "metadata": {
      "needs_background": "light"
     },
     "output_type": "display_data"
    }
   ],
   "source": [
    "fig = interaction_plot(h4['Quarter'],h4['LastName'],h4['Total'])\n",
    "fig.set_size_inches(16, 10)\n",
    "plt.xticks(np.arange(1,9,step=1), ('1','2','3','4','5','6','7','8'))\n",
    "plt.xlabel('Quarter')\n",
    "plt.ylabel('Total Sales')\n",
    "plt.title('Employee Total Sales per Quarter')\n",
    "plt.show()"
   ]
  },
  {
   "cell_type": "markdown",
   "metadata": {},
   "source": [
    "Similar to the line graph in hypothesis test 2, quarter 7 had a jump in sales.<br> Janet Leverling seems to stand out as the highest earner."
   ]
  },
  {
   "cell_type": "markdown",
   "metadata": {},
   "source": [
    "#### Perform an ANOVA test with 2 categories"
   ]
  },
  {
   "cell_type": "code",
   "execution_count": 45,
   "metadata": {},
   "outputs": [
    {
     "data": {
      "text/html": [
       "<div>\n",
       "<style scoped>\n",
       "    .dataframe tbody tr th:only-of-type {\n",
       "        vertical-align: middle;\n",
       "    }\n",
       "\n",
       "    .dataframe tbody tr th {\n",
       "        vertical-align: top;\n",
       "    }\n",
       "\n",
       "    .dataframe thead th {\n",
       "        text-align: right;\n",
       "    }\n",
       "</style>\n",
       "<table border=\"1\" class=\"dataframe\">\n",
       "  <thead>\n",
       "    <tr style=\"text-align: right;\">\n",
       "      <th></th>\n",
       "      <th>df</th>\n",
       "      <th>sum_sq</th>\n",
       "      <th>mean_sq</th>\n",
       "      <th>F</th>\n",
       "      <th>PR(&gt;F)</th>\n",
       "    </tr>\n",
       "  </thead>\n",
       "  <tbody>\n",
       "    <tr>\n",
       "      <th>C(LastName)</th>\n",
       "      <td>8.0</td>\n",
       "      <td>3.721115e+09</td>\n",
       "      <td>4.651394e+08</td>\n",
       "      <td>6.403669</td>\n",
       "      <td>0.000007</td>\n",
       "    </tr>\n",
       "    <tr>\n",
       "      <th>C(Quarter)</th>\n",
       "      <td>7.0</td>\n",
       "      <td>3.131115e+09</td>\n",
       "      <td>4.473022e+08</td>\n",
       "      <td>6.158101</td>\n",
       "      <td>0.000023</td>\n",
       "    </tr>\n",
       "    <tr>\n",
       "      <th>Residual</th>\n",
       "      <td>56.0</td>\n",
       "      <td>4.067638e+09</td>\n",
       "      <td>7.263638e+07</td>\n",
       "      <td>NaN</td>\n",
       "      <td>NaN</td>\n",
       "    </tr>\n",
       "  </tbody>\n",
       "</table>\n",
       "</div>"
      ],
      "text/plain": [
       "               df        sum_sq       mean_sq         F    PR(>F)\n",
       "C(LastName)   8.0  3.721115e+09  4.651394e+08  6.403669  0.000007\n",
       "C(Quarter)    7.0  3.131115e+09  4.473022e+08  6.158101  0.000023\n",
       "Residual     56.0  4.067638e+09  7.263638e+07       NaN       NaN"
      ]
     },
     "execution_count": 45,
     "metadata": {},
     "output_type": "execute_result"
    }
   ],
   "source": [
    "formula = 'Total ~ C(LastName) + C(Quarter)'\n",
    "lm = ols(formula, h4).fit()\n",
    "table = sm.stats.anova_lm(lm, type=2)\n",
    "table"
   ]
  },
  {
   "cell_type": "markdown",
   "metadata": {},
   "source": [
    "<b>Employee has a p-value of 7e-6 and Quarter has a p-value of 2.3e-5. Both factors have values less than our significance level of 0.05 so both are statistically significant to the total sale. The employee is the more influential factor of the two."
   ]
  },
  {
   "cell_type": "markdown",
   "metadata": {},
   "source": [
    "-------------------------------------------------------------------------"
   ]
  },
  {
   "cell_type": "markdown",
   "metadata": {},
   "source": [
    "## Conclusion\n",
    "#### 1 - Do discounts have a statistically significant effect on the number of products customers order? If so, at what level(s) of discount?\n",
    "Discounting products will cause an increase in quantity of products ordered but the level of discount has no effect.\n",
    "#### 2 - Do some regions have higher average order sales than other regions?\n",
    "The average sale price per order slightly varies amongst regions but it is statistically insignificant, but the Eastern region has a much higher count of sales every quarter.\n",
    "#### 3 - Did the Price Increase on April 5th, 2013 cause a statistically significant effect on number of products customers order?\n",
    "Surprisingly, the quantiy of products per order generally stayed the same despite the increase in price. Additionally, the number of orders have also stayed the same.\n",
    "#### 4 - Do some employees have higher total sales per quarter than others?\n",
    "The total sales are affected by the performance of employees and the quarter of the year. Particularly, the 1st quarter of 2014 had a huge increase in sales, while the 2nd quarter of 2014 had an enormous drop in sales."
   ]
  },
  {
   "cell_type": "markdown",
   "metadata": {},
   "source": [
    "There are some interesting findings discovered in these hypothesis tests. We learned that providing a discount will increase the quantity of products but the level of discount does not matter much. The Eastern region is bringing in by far the highest number of orders every quarter. We need to figure out why that is and how other regions can adapt. Maybe the most surprising info is that the price increase on April 5th, 2013 did not cause a drop in sales. Total sales by employee or region stayed relatively the same between 1st quarter and 2nd quarter of 2013. Lastly, certain employees and quarters do affect the total sales. We need to look into 1st quarter of 2014 and see what caused the huge spike in sales. Hopefully, we can maintain a quarter like that consistently."
   ]
  }
 ],
 "metadata": {
  "kernelspec": {
   "display_name": "learn-env",
   "language": "python",
   "name": "learn-env"
  },
  "language_info": {
   "codemirror_mode": {
    "name": "ipython",
    "version": 3
   },
   "file_extension": ".py",
   "mimetype": "text/x-python",
   "name": "python",
   "nbconvert_exporter": "python",
   "pygments_lexer": "ipython3",
   "version": "3.6.6"
  }
 },
 "nbformat": 4,
 "nbformat_minor": 2
}
